{
 "cells": [
  {
   "cell_type": "markdown",
   "id": "f91a2562",
   "metadata": {},
   "source": [
    "# Dynamic Calculator"
   ]
  },
  {
   "cell_type": "code",
   "execution_count": null,
   "id": "a242129d",
   "metadata": {},
   "outputs": [
    {
     "name": "stdout",
     "output_type": "stream",
     "text": [
      "Result of this expression is: 23.15\n"
     ]
    }
   ],
   "source": [
    "def calculator(*input_expression):\n",
    "    numbers = []\n",
    "    operators = []\n",
    "\n",
    "    for item in input_expression:                   #input looks like something [9, '+', 9, '-', 42, '/', 100, '*', 300]\n",
    "        if isinstance(item, (int, float)):\n",
    "            numbers.append(float(item))             #output looks like something [9.0, 9.0, 42.0, 100.0, 300.0]\n",
    "        else:\n",
    "            operators.append(item)                  #output looks like something ['+', '-', '/', '*']\n",
    "\n",
    "    # Using DMAS Rule Handling * , / case\n",
    "\n",
    "    i = 0 # index for operators & numbers act as global variable\n",
    "\n",
    "\n",
    "    while i < len(operators):\n",
    "\n",
    "        op = operators[i]       # current operator \n",
    "        a = numbers[i]          # first number\n",
    "        b = numbers[i + 1]      # second number\n",
    "\n",
    "        if op == '*':\n",
    "            numbers[i] = a * b \n",
    "            numbers.pop(i + 1) \n",
    "            operators.pop(i) \n",
    "\n",
    "        elif op == '/':\n",
    "            numbers[i] = a / b\n",
    "            numbers.pop(i + 1)\n",
    "            operators.pop(i)\n",
    "\n",
    "        else:\n",
    "            i = i + 1           # moving to next operator if not founded any * or /\n",
    "\n",
    "    # Handling + , -  operator!\n",
    "\n",
    "    result = numbers[0]\n",
    "\n",
    "    for i in range(len(operators)):\n",
    "        if operators[i] == '+':\n",
    "            result = result + numbers[i + 1]\n",
    "        elif operators[i] == '-':\n",
    "            result = result - numbers[i + 1]\n",
    "\n",
    "    print(f\"Result of this expression is: {result}\")\n",
    "\n",
    "\n",
    "\n",
    "calculator(1+2*3*4-5/4-3/5)\n",
    "\n",
    "#copyright @ Hamza Akmal all rights reserved.\n",
    "\n"
   ]
  }
 ],
 "metadata": {
  "kernelspec": {
   "display_name": "base",
   "language": "python",
   "name": "python3"
  },
  "language_info": {
   "codemirror_mode": {
    "name": "ipython",
    "version": 3
   },
   "file_extension": ".py",
   "mimetype": "text/x-python",
   "name": "python",
   "nbconvert_exporter": "python",
   "pygments_lexer": "ipython3",
   "version": "3.12.4"
  }
 },
 "nbformat": 4,
 "nbformat_minor": 5
}
