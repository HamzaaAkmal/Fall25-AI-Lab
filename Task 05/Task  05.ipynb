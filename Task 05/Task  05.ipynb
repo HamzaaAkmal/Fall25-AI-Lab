{
 "cells": [
  {
   "cell_type": "markdown",
   "id": "f336af95",
   "metadata": {},
   "source": [
    "### DFS with Stack"
   ]
  },
  {
   "cell_type": "code",
   "execution_count": null,
   "id": "d7abb441",
   "metadata": {},
   "outputs": [
    {
     "name": "stdout",
     "output_type": "stream",
     "text": [
      "Visiting: A\n",
      "Visiting: B\n",
      "Visiting: D\n",
      "Goal: D found!\n",
      "DFS Traverse: ['A', 'B', 'D']\n"
     ]
    }
   ],
   "source": [
    "# Tree represented as adjacency list\n",
    "tree_map = {\n",
    "    'A': ['B', 'C'],\n",
    "    'B': ['D', 'E'],\n",
    "    'C': ['F'],\n",
    "    'D': [],\n",
    "    'E': [],\n",
    "    'F': ['G'],\n",
    "    'G': []\n",
    "}\n",
    "\n",
    "def depth_first_stack(source, target):\n",
    "    explored = []\n",
    "    stack_list = [source]\n",
    "\n",
    "    while stack_list:\n",
    "        node = stack_list.pop()\n",
    "        if node not in explored:\n",
    "            explored.append(node)\n",
    "            print(\"Currently Checking:\", node)\n",
    "            if node == target:\n",
    "                print(f\"Target '{target}' Located Successfully!\")\n",
    "                return explored\n",
    "\n",
    "            for neighbor in reversed(tree_map[node]):\n",
    "                if neighbor not in explored:\n",
    "                    stack_list.append(neighbor)\n",
    "\n",
    "    print(f\"Target '{target}' Not Found in Tree.\")\n",
    "    return explored\n",
    "\n",
    "\n",
    "# Run DFS search\n",
    "result_path = depth_first_stack('A', 'D')\n",
    "print(\"DFS Path Traversed:\", result_path)\n"
   ]
  },
  {
   "cell_type": "markdown",
   "id": "c7d28ab0",
   "metadata": {},
   "source": [
    "### DFS with Stack and nodes"
   ]
  },
  {
   "cell_type": "code",
   "execution_count": null,
   "id": "53a53b6e",
   "metadata": {},
   "outputs": [
    {
     "name": "stdout",
     "output_type": "stream",
     "text": [
      "Visiting....: A\n",
      "Visiting....: B\n",
      "Visiting....: D\n",
      "Visiting....: E\n",
      "Goal: E found!\n",
      "DFS Stack: ['A', 'B', 'D', 'E']\n"
     ]
    }
   ],
   "source": [
    "class TreeNode:\n",
    "    def __init__(self, data):\n",
    "        self.data = data\n",
    "        self.descendants = []\n",
    "\n",
    "    def connect(self, node):\n",
    "        self.descendants.append(node)\n",
    "\n",
    "\n",
    "def depth_first_search(start_node, target):\n",
    "    explored = []\n",
    "    stack_list = [start_node]\n",
    "\n",
    "    while stack_list:\n",
    "        current_node = stack_list.pop()\n",
    "        if current_node not in explored:\n",
    "            explored.append(current_node)\n",
    "            print(\"Currently Exploring:\", current_node.data)\n",
    "            if current_node.data == target:\n",
    "                print(f\"Target Node '{target}' Reached!\")\n",
    "                return explored\n",
    "            for next_node in reversed(current_node.descendants):\n",
    "                if next_node not in explored:\n",
    "                    stack_list.append(next_node)\n",
    "\n",
    "    print(f\"Target Node '{target}' Not Found in Tree.\")\n",
    "\n",
    "\n",
    "# Building the Tree\n",
    "A = TreeNode('A')\n",
    "B = TreeNode('B')\n",
    "C = TreeNode('C')\n",
    "D = TreeNode('D')\n",
    "E = TreeNode('E')\n",
    "F = TreeNode('F')\n",
    "G = TreeNode('G')\n",
    "\n",
    "A.connect(B)\n",
    "A.connect(C)\n",
    "B.connect(D)\n",
    "B.connect(E)\n",
    "C.connect(F)\n",
    "F.connect(G)\n",
    "\n",
    "# Running DFS\n",
    "visited_nodes = depth_first_search(A, 'E')\n",
    "path = [node.data for node in visited_nodes]\n",
    "print(\"DFS Traversal Path:\", path)\n"
   ]
  },
  {
   "cell_type": "code",
   "execution_count": null,
   "id": "97781bd2",
   "metadata": {},
   "outputs": [],
   "source": []
  }
 ],
 "metadata": {
  "kernelspec": {
   "display_name": "base",
   "language": "python",
   "name": "python3"
  },
  "language_info": {
   "codemirror_mode": {
    "name": "ipython",
    "version": 3
   },
   "file_extension": ".py",
   "mimetype": "text/x-python",
   "name": "python",
   "nbconvert_exporter": "python",
   "pygments_lexer": "ipython3",
   "version": "3.12.4"
  }
 },
 "nbformat": 4,
 "nbformat_minor": 5
}
