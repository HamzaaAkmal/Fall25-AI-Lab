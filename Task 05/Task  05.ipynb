{
 "cells": [
  {
   "cell_type": "markdown",
   "id": "f336af95",
   "metadata": {},
   "source": [
    "### DFS with Stack"
   ]
  },
  {
   "cell_type": "code",
   "execution_count": null,
   "id": "d7abb441",
   "metadata": {},
   "outputs": [
    {
     "name": "stdout",
     "output_type": "stream",
     "text": [
      "Visiting: A\n",
      "Visiting: B\n",
      "Visiting: D\n",
      "Goal: D found!\n",
      "DFS Traverse: ['A', 'B', 'D']\n"
     ]
    }
   ],
   "source": [
    "# Tree represented as adjacency list\n",
    "tree_map = {\n",
    "    'A': ['B', 'C'],\n",
    "    'B': ['D', 'E'],\n",
    "    'C': ['F'],\n",
    "    'D': [],\n",
    "    'E': [],\n",
    "    'F': ['G'],\n",
    "    'G': []\n",
    "}\n",
    "\n",
    "def depth_first_stack(source, target):\n",
    "    explored = []\n",
    "    stack_list = [source]\n",
    "\n",
    "    while stack_list:\n",
    "        node = stack_list.pop()\n",
    "        if node not in explored:\n",
    "            explored.append(node)\n",
    "            print(\"Currently Checking:\", node)\n",
    "            if node == target:\n",
    "                print(f\"Target '{target}' Located Successfully!\")\n",
    "                return explored\n",
    "\n",
    "            for neighbor in reversed(tree_map[node]):\n",
    "                if neighbor not in explored:\n",
    "                    stack_list.append(neighbor)\n",
    "\n",
    "    print(f\"Target '{target}' Not Found in Tree.\")\n",
    "    return explored\n",
    "\n",
    "\n",
    "# Run DFS search\n",
    "result_path = depth_first_stack('A', 'D')\n",
    "print(\"DFS Path Traversed:\", result_path)\n"
   ]
  }
 ],
 "metadata": {
  "kernelspec": {
   "display_name": "base",
   "language": "python",
   "name": "python3"
  },
  "language_info": {
   "codemirror_mode": {
    "name": "ipython",
    "version": 3
   },
   "file_extension": ".py",
   "mimetype": "text/x-python",
   "name": "python",
   "nbconvert_exporter": "python",
   "pygments_lexer": "ipython3",
   "version": "3.12.4"
  }
 },
 "nbformat": 4,
 "nbformat_minor": 5
}
