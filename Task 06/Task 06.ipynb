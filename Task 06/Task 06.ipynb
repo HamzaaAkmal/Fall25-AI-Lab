{
 "cells": [
  {
   "cell_type": "markdown",
   "id": "d06dde97",
   "metadata": {},
   "source": [
    "#### BFS without Queue & without Node"
   ]
  },
  {
   "cell_type": "code",
   "execution_count": null,
   "id": "e3bc2874",
   "metadata": {},
   "outputs": [
    {
     "name": "stdout",
     "output_type": "stream",
     "text": [
      "A\n"
     ]
    }
   ],
   "source": [
    "# Graph representation as adjacency list\n",
    "network = {\n",
    "    'D': ['E', 'F'],\n",
    "    'E': ['A', 'C'],\n",
    "    'F': ['G'],\n",
    "    'A': [],\n",
    "    'C': [],\n",
    "    'G': []\n",
    "}\n",
    "\n",
    "def breadth_first_traversal(graph_data, start_node):\n",
    "    explored = []\n",
    "    queue = [start_node]\n",
    "\n",
    "    while queue:\n",
    "        current = queue.pop(0)\n",
    "        print(\"Visiting Node:\", current)\n",
    "        explored.append(current)\n",
    "\n",
    "        for adjacent in graph_data[current]:\n",
    "            if adjacent not in explored and adjacent not in queue:\n",
    "                queue.append(adjacent)\n",
    "\n",
    "    return explored\n",
    "\n",
    "\n",
    "# Running BFS\n",
    "visited_order = breadth_first_traversal(network, 'A')\n",
    "print(\"BFS Traversal Sequence:\", visited_order)\n"
   ]
  },
  {
   "cell_type": "markdown",
   "id": "1091ad5d",
   "metadata": {},
   "source": [
    "#### BFS with Queue & Node  "
   ]
  },
  {
   "cell_type": "code",
   "execution_count": null,
   "id": "f903151b",
   "metadata": {},
   "outputs": [
    {
     "name": "stdout",
     "output_type": "stream",
     "text": [
      "BFS traversal output:\n",
      "J\n",
      "E\n",
      "C\n",
      "A\n"
     ]
    }
   ],
   "source": [
    "class GraphNode:\n",
    "    def __init__(self, label):\n",
    "        self.label = label\n",
    "        self.is_visited = False\n",
    "        self.connections = []\n",
    "\n",
    "def breadth_first_search(entry_point):\n",
    "    queue_list = []\n",
    "    entry_point.is_visited = True\n",
    "    queue_list.append(entry_point)\n",
    "\n",
    "    while queue_list:\n",
    "        active_node = queue_list.pop(0)\n",
    "        print(\"Currently Visiting:\", active_node.label)\n",
    "        for adjacent in active_node.connections:\n",
    "            if not adjacent.is_visited:\n",
    "                adjacent.is_visited = True\n",
    "                queue_list.append(adjacent)\n",
    "\n",
    "def clear_visited_flags(node_list):\n",
    "    for n in node_list:\n",
    "        n.is_visited = False\n",
    "\n",
    "\n",
    "# Building graph structure\n",
    "J = GraphNode('J')\n",
    "E = GraphNode('E')\n",
    "F = GraphNode('F')\n",
    "A = GraphNode('A')\n",
    "C = GraphNode('C')\n",
    "G = GraphNode('G')\n",
    "\n",
    "J.connections = [E, C]\n",
    "E.connections = [A, C]\n",
    "F.connections = [G]\n",
    "\n",
    "# Collecting nodes\n",
    "all_nodes = [J, E, F, A, C, G]\n",
    "\n",
    "print(\"Breadth-First Search Result:\\n\")\n",
    "breadth_first_search(J)\n",
    "\n",
    "# Reset visit status for potential reuse\n",
    "clear_visited_flags(all_nodes)\n"
   ]
  }
 ],
 "metadata": {
  "kernelspec": {
   "display_name": "base",
   "language": "python",
   "name": "python3"
  },
  "language_info": {
   "codemirror_mode": {
    "name": "ipython",
    "version": 3
   },
   "file_extension": ".py",
   "mimetype": "text/x-python",
   "name": "python",
   "nbconvert_exporter": "python",
   "pygments_lexer": "ipython3",
   "version": "3.12.4"
  }
 },
 "nbformat": 4,
 "nbformat_minor": 5
}
