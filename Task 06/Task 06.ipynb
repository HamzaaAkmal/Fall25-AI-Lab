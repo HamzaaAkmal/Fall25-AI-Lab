{
 "cells": [
  {
   "cell_type": "markdown",
   "id": "d06dde97",
   "metadata": {},
   "source": [
    "#### BFS without Queue & without Node"
   ]
  },
  {
   "cell_type": "code",
   "execution_count": null,
   "id": "e3bc2874",
   "metadata": {},
   "outputs": [
    {
     "name": "stdout",
     "output_type": "stream",
     "text": [
      "A\n"
     ]
    }
   ],
   "source": [
    "# Graph representation as adjacency list\n",
    "network = {\n",
    "    'D': ['E', 'F'],\n",
    "    'E': ['A', 'C'],\n",
    "    'F': ['G'],\n",
    "    'A': [],\n",
    "    'C': [],\n",
    "    'G': []\n",
    "}\n",
    "\n",
    "def breadth_first_traversal(graph_data, start_node):\n",
    "    explored = []\n",
    "    queue = [start_node]\n",
    "\n",
    "    while queue:\n",
    "        current = queue.pop(0)\n",
    "        print(\"Visiting Node:\", current)\n",
    "        explored.append(current)\n",
    "\n",
    "        for adjacent in graph_data[current]:\n",
    "            if adjacent not in explored and adjacent not in queue:\n",
    "                queue.append(adjacent)\n",
    "\n",
    "    return explored\n",
    "\n",
    "\n",
    "# Running BFS\n",
    "visited_order = breadth_first_traversal(network, 'A')\n",
    "print(\"BFS Traversal Sequence:\", visited_order)\n"
   ]
  }
 ],
 "metadata": {
  "kernelspec": {
   "display_name": "base",
   "language": "python",
   "name": "python3"
  },
  "language_info": {
   "codemirror_mode": {
    "name": "ipython",
    "version": 3
   },
   "file_extension": ".py",
   "mimetype": "text/x-python",
   "name": "python",
   "nbconvert_exporter": "python",
   "pygments_lexer": "ipython3",
   "version": "3.12.4"
  }
 },
 "nbformat": 4,
 "nbformat_minor": 5
}
